{
 "cells": [
  {
   "cell_type": "code",
   "execution_count": 1,
   "id": "63366104",
   "metadata": {},
   "outputs": [],
   "source": [
    "import pandas as pd\n",
    "dis = {\"a\":[1,2,3,4,5,6],\"s\":[1,2,3,4,5,6],\"d\":[1,2,3,4,5,6]}\n",
    "d=pd.DataFrame(dis)\n",
    "d.to_csv(\"Test.csv\")         #this csv file will save at the same locaton of .pynb"
   ]
  },
  {
   "cell_type": "code",
   "execution_count": 2,
   "id": "cc19887e",
   "metadata": {},
   "outputs": [
    {
     "name": "stdout",
     "output_type": "stream",
     "text": [
      "   a  s  d\n",
      "0  1  1  1\n",
      "1  2  2  2\n",
      "2  3  3  3\n",
      "3  4  4  4\n",
      "4  5  5  5\n",
      "5  6  6  6\n"
     ]
    }
   ],
   "source": [
    "import pandas as pd\n",
    "dis = {\"a\":[1,2,3,4,5,6],\"s\":[1,2,3,4,5,6],\"d\":[1,2,3,4,5,6]}\n",
    "d=pd.DataFrame(dis)\n",
    "print(d)\n",
    "d.to_csv(\"Test_new1.csv\",index=False)     #this will remove the index from the .csv file"
   ]
  },
  {
   "cell_type": "code",
   "execution_count": 7,
   "id": "bd0a7664",
   "metadata": {},
   "outputs": [
    {
     "name": "stdout",
     "output_type": "stream",
     "text": [
      "   a  s  d\n",
      "0  1  1  1\n",
      "1  2  2  2\n",
      "2  3  3  3\n",
      "3  4  4  4\n",
      "4  5  5  5\n",
      "5  6  6  6\n"
     ]
    }
   ],
   "source": [
    "import pandas as pd\n",
    "dis = {\"a\":[1,2,3,4,5,6],\"s\":[1,2,3,4,5,6],\"d\":[1,2,3,4,5,6]}\n",
    "d=pd.DataFrame(dis)\n",
    "print(d)\n",
    "d.to_csv(\"Test_new2.csv\",index=False,header=[\"A\",\"B\",\"C\"])     #this will replace heading [\"a\",\"b\",\"c\"] as [\"A\",\"B\",\"C\"  ]"
   ]
  }
 ],
 "metadata": {
  "kernelspec": {
   "display_name": "base",
   "language": "python",
   "name": "python3"
  },
  "language_info": {
   "codemirror_mode": {
    "name": "ipython",
    "version": 3
   },
   "file_extension": ".py",
   "mimetype": "text/x-python",
   "name": "python",
   "nbconvert_exporter": "python",
   "pygments_lexer": "ipython3",
   "version": "3.9.12 (main, Apr  4 2022, 05:22:27) [MSC v.1916 64 bit (AMD64)]"
  },
  "vscode": {
   "interpreter": {
    "hash": "00af303cd6eb4db3a82cf409bf5dd5d8f315934e004e8b7515186065b4c3593e"
   }
  }
 },
 "nbformat": 4,
 "nbformat_minor": 5
}
